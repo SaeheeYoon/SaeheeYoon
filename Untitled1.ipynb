{
  "nbformat": 4,
  "nbformat_minor": 0,
  "metadata": {
    "colab": {
      "provenance": [],
      "authorship_tag": "ABX9TyO889B3cBGJT4gUdYZgwWkc",
      "include_colab_link": true
    },
    "kernelspec": {
      "name": "python3",
      "display_name": "Python 3"
    },
    "language_info": {
      "name": "python"
    }
  },
  "cells": [
    {
      "cell_type": "markdown",
      "metadata": {
        "id": "view-in-github",
        "colab_type": "text"
      },
      "source": [
        "<a href=\"https://colab.research.google.com/github/SaeheeYoon/SaeheeYoon/blob/main/Untitled1.ipynb\" target=\"_parent\"><img src=\"https://colab.research.google.com/assets/colab-badge.svg\" alt=\"Open In Colab\"/></a>"
      ]
    },
    {
      "cell_type": "code",
      "execution_count": 1,
      "metadata": {
        "colab": {
          "base_uri": "https://localhost:8080/",
          "height": 397
        },
        "id": "0eDg2_akXU_A",
        "outputId": "a09fea7b-e3bd-4b23-df72-f45c31782139"
      },
      "outputs": [
        {
          "output_type": "error",
          "ename": "ModuleNotFoundError",
          "evalue": "No module named 'gradio'",
          "traceback": [
            "\u001b[0;31m---------------------------------------------------------------------------\u001b[0m",
            "\u001b[0;31mModuleNotFoundError\u001b[0m                       Traceback (most recent call last)",
            "\u001b[0;32m<ipython-input-1-11efc939f0fb>\u001b[0m in \u001b[0;36m<cell line: 2>\u001b[0;34m()\u001b[0m\n\u001b[1;32m      1\u001b[0m \u001b[0;31m#@markdown Split sentences\u001b[0m\u001b[0;34m\u001b[0m\u001b[0;34m\u001b[0m\u001b[0m\n\u001b[0;32m----> 2\u001b[0;31m \u001b[0;32mimport\u001b[0m \u001b[0mgradio\u001b[0m \u001b[0;32mas\u001b[0m \u001b[0mgr\u001b[0m\u001b[0;34m\u001b[0m\u001b[0;34m\u001b[0m\u001b[0m\n\u001b[0m\u001b[1;32m      3\u001b[0m \u001b[0;32mfrom\u001b[0m \u001b[0mgtts\u001b[0m \u001b[0;32mimport\u001b[0m \u001b[0mgTTS\u001b[0m\u001b[0;34m\u001b[0m\u001b[0;34m\u001b[0m\u001b[0m\n\u001b[1;32m      4\u001b[0m \u001b[0;32mfrom\u001b[0m \u001b[0mnltk\u001b[0m \u001b[0;32mimport\u001b[0m \u001b[0mtokenize\u001b[0m\u001b[0;34m\u001b[0m\u001b[0;34m\u001b[0m\u001b[0m\n\u001b[1;32m      5\u001b[0m \u001b[0;32mimport\u001b[0m \u001b[0mos\u001b[0m\u001b[0;34m\u001b[0m\u001b[0;34m\u001b[0m\u001b[0m\n",
            "\u001b[0;31mModuleNotFoundError\u001b[0m: No module named 'gradio'",
            "",
            "\u001b[0;31m---------------------------------------------------------------------------\u001b[0;32m\nNOTE: If your import is failing due to a missing package, you can\nmanually install dependencies using either !pip or !apt.\n\nTo view examples of installing some common dependencies, click the\n\"Open Examples\" button below.\n\u001b[0;31m---------------------------------------------------------------------------\u001b[0m\n"
          ],
          "errorDetails": {
            "actions": [
              {
                "action": "open_url",
                "actionText": "Open Examples",
                "url": "/notebooks/snippets/importing_libraries.ipynb"
              }
            ]
          }
        }
      ],
      "source": [
        "#@markdown Split sentences\n",
        "import gradio as gr\n",
        "from gtts import gTTS\n",
        "from nltk import tokenize\n",
        "import os\n",
        "\n",
        "# Import necessary nltk libraries\n",
        "import nltk\n",
        "nltk.download('punkt')\n",
        "\n",
        "# Global variable to store sentences\n",
        "sentences = []\n",
        "\n",
        "# Function to process text and generate sentence options\n",
        "def process_text(mytext):\n",
        "    global sentences\n",
        "    sentences = tokenize.sent_tokenize(mytext)\n",
        "    return [f\"{i + 1}. {s}\" for i, s in enumerate(sentences)]\n",
        "\n",
        "# Function to generate audio for the selected sentence\n",
        "def generate_audio(selected_item):\n",
        "    if not selected_item:\n",
        "        return None\n",
        "\n",
        "    index = int(selected_item.split('.')[0]) - 1  # Adjust for 0-based index\n",
        "\n",
        "    if 0 <= index < len(sentences):\n",
        "        sentence = sentences[index]\n",
        "        tts = gTTS(text=sentence, lang='en')\n",
        "        audio_path = f'sentence_{index + 1}.mp3'\n",
        "        tts.save(audio_path)\n",
        "        return audio_path\n",
        "    else:\n",
        "        return None\n",
        "\n",
        "# Function to update dropdown choices based on text input\n",
        "def update_dropdown(mytext):\n",
        "    choices = process_text(mytext)\n",
        "    return gr.update(choices=choices)\n",
        "\n",
        "# Create a Gradio Blocks app\n",
        "with gr.Blocks() as app:\n",
        "    with gr.Row():\n",
        "        textbox = gr.Textbox(label=\"Enter your text here\")\n",
        "    with gr.Row():\n",
        "        submit_button = gr.Button(\"Submit\")\n",
        "    with gr.Row():\n",
        "        dropdown = gr.Dropdown(choices=[], label=\"Select Sentence\")\n",
        "    with gr.Row():\n",
        "        audio_output = gr.Audio(label=\"Audio of Selected Sentence\")\n",
        "\n",
        "    submit_button.click(fn=update_dropdown, inputs=textbox, outputs=dropdown)\n",
        "    dropdown.change(fn=generate_audio, inputs=dropdown, outputs=audio_output)\n",
        "\n",
        "app.launch()"
      ]
    }
  ]
}