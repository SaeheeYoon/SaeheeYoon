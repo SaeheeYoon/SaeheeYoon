{
  "nbformat": 4,
  "nbformat_minor": 0,
  "metadata": {
    "colab": {
      "provenance": [],
      "authorship_tag": "ABX9TyOmxlcS2poziurIalcTnH1B",
      "include_colab_link": true
    },
    "kernelspec": {
      "name": "python3",
      "display_name": "Python 3"
    },
    "language_info": {
      "name": "python"
    }
  },
  "cells": [
    {
      "cell_type": "markdown",
      "metadata": {
        "id": "view-in-github",
        "colab_type": "text"
      },
      "source": [
        "<a href=\"https://colab.research.google.com/github/SaeheeYoon/SaeheeYoon/blob/main/Untitled2.ipynb\" target=\"_parent\"><img src=\"https://colab.research.google.com/assets/colab-badge.svg\" alt=\"Open In Colab\"/></a>"
      ]
    },
    {
      "cell_type": "code",
      "execution_count": null,
      "metadata": {
        "id": "vLNHEc9jX_Lj"
      },
      "outputs": [],
      "source": [
        "import gradio as gr\n",
        "from gtts import gTTS\n",
        "from nltk import tokenize\n",
        "import os\n",
        "\n",
        "# Import necessary nltk libraries\n",
        "import nltk\n",
        "nltk.download('punkt')\n",
        "\n",
        "# Global variable to store sentences and the entire text\n",
        "sentences = []\n",
        "full_text = \"\"\n",
        "\n",
        "# Function to process text and generate sentence options\n",
        "def process_text(mytext):\n",
        "    global sentences, full_text\n",
        "    full_text = mytext\n",
        "    sentences = tokenize.sent_tokenize(mytext)\n",
        "    choices = [\"Play the whole text\"] + [f\"{i + 1}. {s}\" for i, s in enumerate(sentences)]\n",
        "    return choices\n",
        "\n",
        "# Function to generate audio for the selected item\n",
        "def generate_audio(selected_item):\n",
        "    global full_text\n",
        "\n",
        "    if not selected_item:\n",
        "        return None\n",
        "\n",
        "    if selected_item == \"Play the whole text\":\n",
        "        tts = gTTS(text=full_text, lang='en')\n",
        "        audio_path = 'full_text.mp3'\n",
        "        tts.save(audio_path)\n",
        "        return audio_path\n",
        "\n",
        "    index = int(selected_item.split('.')[0]) - 1  # Adjust for 0-based index\n",
        "\n",
        "    if 0 <= index < len(sentences):\n",
        "        sentence = sentences[index]\n",
        "        tts = gTTS(text=sentence, lang='en')\n",
        "        audio_path = f'sentence_{index + 1}.mp3'\n",
        "        tts.save(audio_path)\n",
        "        return audio_path\n",
        "    else:\n",
        "        return None\n",
        "\n",
        "# Function to update dropdown choices based on text input\n",
        "def update_dropdown(mytext):\n",
        "    choices = process_text(mytext)\n",
        "    return gr.update(choices=choices)\n",
        "\n",
        "# Create a Gradio Blocks app\n",
        "with gr.Blocks() as app:\n",
        "    with gr.Row():\n",
        "        textbox = gr.Textbox(label=\"Enter your text here\")\n",
        "    with gr.Row():\n",
        "        submit_button = gr.Button(\"Submit\")\n",
        "    with gr.Row():\n",
        "        dropdown = gr.Dropdown(choices=[], label=\"Select Sentence\")\n",
        "    with gr.Row():\n",
        "        audio_output = gr.Audio(label=\"Audio of Selected Sentence\")\n",
        "\n",
        "    submit_button.click(fn=update_dropdown, inputs=textbox, outputs=dropdown)\n",
        "    dropdown.change(fn=generate_audio, inputs=dropdown, outputs=audio_output)\n",
        "\n",
        "app.launch()"
      ]
    }
  ]
}